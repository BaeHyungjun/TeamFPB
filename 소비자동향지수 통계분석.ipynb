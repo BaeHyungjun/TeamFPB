{
 "cells": [
  {
   "cell_type": "code",
   "execution_count": null,
   "metadata": {},
   "outputs": [],
   "source": [
    "setwd('C:/Users/cptas')\n",
    "library(dplyr)\n",
    "library(ggplot2)\n",
    "library(readxl)\n",
    "library(reshape2)\n",
    "library(agricolae)\n",
    "\n",
    "data <- read_excel('월별소비자동향조사.xlsx')\n",
    "head(data)"
   ]
  },
  {
   "cell_type": "code",
   "execution_count": null,
   "metadata": {},
   "outputs": [],
   "source": [
    "#자영업자, 봉급생활자 비교\n",
    "data1 <- data %>%\n",
    "  filter(분류코드별 %in% c('자영업자', '봉급생활자')) %>% \n",
    "  filter(지수코드별 %in% c('임금수준전망CSI', '현재생활형편CSI',\n",
    "                      '현재경기판단CSI', '생활형편전망CSI', '향후경기전망CSI')) %>% \n",
    "  select(-항목, -단위) %>% \n",
    "  melt(id.vars=c('지수코드별', '분류코드별'))\n",
    "\n",
    "data1$지수코드별 = as.factor(data1$지수코드별)\n",
    "data1$분류코드별 = as.factor(data1$분류코드별)\n",
    "\n",
    "data1_b <- data1[c(1:240), ]\n",
    "data1_a <- data1[c(241:340), ]\n",
    "data1_ao <- data1_a %>%\n",
    "  filter(분류코드별 == '자영업자')\n",
    "data1_as <- data1_a %>%\n",
    "  filter(분류코드별 == '봉급생활자')\n",
    "data1_bo <- data1_b %>%\n",
    "  filter(분류코드별 == '자영업자')\n",
    "data1_bs <- data1_b %>%\n",
    "  filter(분류코드별 == '봉급생활자')"
   ]
  },
  {
   "cell_type": "code",
   "execution_count": null,
   "metadata": {},
   "outputs": [],
   "source": [
    "#자영업자와 봉급생활자 임금수준전망 코로나 이전\n",
    "a <- data1_bo %>% filter(지수코드별 == '임금수준전망CSI')\n",
    "b <- data1_bs %>% filter(지수코드별 == '임금수준전망CSI')\n",
    "\n",
    "shapiro.test(b$value)\n",
    "var.test(a$value, b$value)\n",
    "t.test(a$value, b$value)"
   ]
  },
  {
   "cell_type": "code",
   "execution_count": null,
   "metadata": {},
   "outputs": [],
   "source": [
    "#자영업자와 봉급생활자 임금수준전망 코로나 이후\n",
    "x <- data1_ao %>% filter(지수코드별 == '임금수준전망CSI')\n",
    "x$value\n",
    "y <- data1_as %>% filter(지수코드별 == '임금수준전망CSI')\n",
    "y$value\n",
    "wilcox.test(x$value, y$value)"
   ]
  },
  {
   "cell_type": "code",
   "execution_count": null,
   "metadata": {},
   "outputs": [],
   "source": [
    "#자영업자와 봉급생활자 현재생활형편 코로나 이전\n",
    "a <- data1_bo %>% filter(지수코드별 == '현재생활형편CSI')\n",
    "b <- data1_bs %>% filter(지수코드별 == '현재생활형편CSI')\n",
    "\n",
    "shapiro.test(a$value)\n",
    "shapiro.test(b$value)\n",
    "var.test(a$value, b$value)\n",
    "t.test(a$value, b$value)"
   ]
  },
  {
   "cell_type": "code",
   "execution_count": null,
   "metadata": {},
   "outputs": [],
   "source": [
    "#자영업자와 봉급생활자 현재생활형편 코로나 이후\n",
    "x <- data1_ao %>% filter(지수코드별 == '현재생활형편CSI')\n",
    "x$value\n",
    "y <- data1_as %>% filter(지수코드별 == '현재생활형편CSI')\n",
    "y$value\n",
    "shapiro.test(x$value)\n",
    "shapiro.test(y$value)\n",
    "var.test(x$value, y$value)\n",
    "t.test(x$value, y$value, var.equal = F)"
   ]
  },
  {
   "cell_type": "code",
   "execution_count": null,
   "metadata": {},
   "outputs": [],
   "source": [
    "#자영업자와 봉급생활자 향후경기전망 코로나 이전\n",
    "a <- data1_bo %>% filter(지수코드별 == '향후경기전망CSI')\n",
    "b <- data1_bs %>% filter(지수코드별 == '향후경기전망CSI')\n",
    "\n",
    "wilcox.test(a$value, b$value)"
   ]
  },
  {
   "cell_type": "code",
   "execution_count": null,
   "metadata": {},
   "outputs": [],
   "source": [
    "#자영업자와 봉급생활자 향후경기전망 코로나 이후\n",
    "x <- data1_ao %>% filter(지수코드별 == '향후경기전망CSI')\n",
    "x$value\n",
    "y <- data1_as %>% filter(지수코드별 == '향후경기전망CSI')\n",
    "y$value\n",
    "shapiro.test(x$value)\n",
    "shapiro.test(y$value)\n",
    "var.test(x$value, y$value)\n",
    "t.test(x$value, y$value, var.equal = T)"
   ]
  },
  {
   "cell_type": "code",
   "execution_count": null,
   "metadata": {},
   "outputs": [],
   "source": [
    "#소득별 비교\n",
    "data2 <- data %>%\n",
    "  filter(분류코드별 %in% c('100만원미만', '100-200만원', '200-300만원', '300-400만원', '400-500만원', '500만원이상')) %>% \n",
    "  filter(지수코드별 %in% c('가계수입전망CSI', '현재가계저축CSI', '가계저축전망CSI', '주택가격전망CSI', '소비지출전망CSI', '의료·보건비 지출전망CSI', '교양·오락·문화생활비 지출전망CSI', '의류비 지출전망CSI', '외식비 지출전망CSI', '여행비 지출전망CSI', '교육비 지출전망CSI')) %>% \n",
    "  select(-항목, -단위) %>% \n",
    "  melt(id.vars=c('지수코드별', '분류코드별'))\n",
    "\n",
    "data2$지수코드별 = as.factor(data2$지수코드별)\n",
    "data2$분류코드별 = as.factor(data2$분류코드별)\n",
    "dim(data2)\n",
    "data2_b <- data2[c(1:1584), ]\n",
    "data2_a <- data2[c(1585:2244), ]"
   ]
  },
  {
   "cell_type": "code",
   "execution_count": null,
   "metadata": {},
   "outputs": [],
   "source": [
    "#소득별 가계수입전망 코로나 이후\n",
    "model1 = aov(value ~ 분류코드별 + variable, data=data2_a[data2_a$지수코드별 == '가계수입전망CSI', ])\n",
    "summary(model1)\n",
    "a=HSD.test(model1, '분류코드별', group=TRUE)\n",
    "a"
   ]
  },
  {
   "cell_type": "code",
   "execution_count": null,
   "metadata": {},
   "outputs": [],
   "source": [
    "#소득별 가계수입전망 코로나 이전\n",
    "model2 = aov(value ~ 분류코드별 + variable, data=data2_b[data2_b$지수코드별 == '가계수입전망CSI', ])\n",
    "summary(model2)\n",
    "b=HSD.test(model2, '분류코드별', group=TRUE)\n",
    "b"
   ]
  },
  {
   "cell_type": "code",
   "execution_count": null,
   "metadata": {},
   "outputs": [],
   "source": [
    "#소득별 주택가격전망 코로나 이후\n",
    "model1 = aov(value ~ 분류코드별 + variable, data=data2_a[data2_a$지수코드별 == '주택가격전망CSI', ])\n",
    "summary(model1)\n",
    "a=HSD.test(model1, '분류코드별', group=TRUE)\n",
    "a"
   ]
  },
  {
   "cell_type": "code",
   "execution_count": null,
   "metadata": {},
   "outputs": [],
   "source": [
    "#소득별 주택가격전망 코로나 이전\n",
    "model2 = aov(value ~ 분류코드별 + variable, data=data2_b[data2_b$지수코드별 == '주택가격전망CSI', ])\n",
    "summary(model2)\n",
    "b=HSD.test(model2, '분류코드별', group=TRUE)\n",
    "b"
   ]
  },
  {
   "cell_type": "code",
   "execution_count": null,
   "metadata": {},
   "outputs": [],
   "source": [
    "#소득별 소비지출전망 코로나 이후\n",
    "model1 = aov(value ~ 분류코드별 + variable, data=data2_a[data2_a$지수코드별 == '소비지출전망CSI', ])\n",
    "summary(model1)\n",
    "a=HSD.test(model1, '분류코드별', group=TRUE)\n",
    "a"
   ]
  },
  {
   "cell_type": "code",
   "execution_count": null,
   "metadata": {},
   "outputs": [],
   "source": [
    "#소득별 소비지출전망 코로나 이전\n",
    "model2 = aov(value ~ 분류코드별 + variable, data=data2_b[data2_b$지수코드별 == '소비지출전망CSI', ])\n",
    "summary(model2)\n",
    "b=HSD.test(model2, '분류코드별', group=TRUE)\n",
    "b"
   ]
  },
  {
   "cell_type": "code",
   "execution_count": null,
   "metadata": {},
   "outputs": [],
   "source": [
    "#소득별 가계저축전망 코로나 이후\n",
    "model1 = aov(value ~ 분류코드별 + variable, data=data2_a[data2_a$지수코드별 == '가계저축전망CSI', ])\n",
    "summary(model1)\n",
    "a=HSD.test(model1, '분류코드별', group=TRUE)\n",
    "a"
   ]
  },
  {
   "cell_type": "code",
   "execution_count": null,
   "metadata": {},
   "outputs": [],
   "source": [
    "#소득별 가계저축전망 코로나 이전\n",
    "model2 = aov(value ~ 분류코드별 + variable, data=data2_b[data2_b$지수코드별 == '가계저축전망CSI', ])\n",
    "summary(model2)\n",
    "b=HSD.test(model2, '분류코드별', group=TRUE)\n",
    "b"
   ]
  },
  {
   "cell_type": "code",
   "execution_count": null,
   "metadata": {},
   "outputs": [],
   "source": [
    "#소득별 의료·보건비 지출전망 코로나 이후\n",
    "model1 = aov(value ~ 분류코드별 + variable, data=data2_a[data2_a$지수코드별 == '의료·보건비 지출전망CSI', ])\n",
    "summary(model1)\n",
    "a=HSD.test(model1, '분류코드별', group=TRUE)\n",
    "a"
   ]
  },
  {
   "cell_type": "code",
   "execution_count": null,
   "metadata": {},
   "outputs": [],
   "source": [
    "#소득별 의료·보건비 지출전망 코로나 이전\n",
    "model2 = aov(value ~ 분류코드별 + variable, data=data2_b[data2_b$지수코드별 == '의료·보건비 지출전망CSI', ])\n",
    "summary(model2)\n",
    "b=HSD.test(model2, '분류코드별', group=TRUE)\n",
    "b"
   ]
  },
  {
   "cell_type": "code",
   "execution_count": null,
   "metadata": {},
   "outputs": [],
   "source": [
    "#소득별 교양·오락·문화생활비 지출전망 코로나 이후\n",
    "model1 = aov(value ~ 분류코드별 + variable, data=data2_a[data2_a$지수코드별 == '교양·오락·문화생활비 지출전망CSI', ])\n",
    "summary(model1)\n",
    "a=HSD.test(model1, '분류코드별', group=TRUE)\n",
    "a"
   ]
  },
  {
   "cell_type": "code",
   "execution_count": null,
   "metadata": {},
   "outputs": [],
   "source": [
    "#소득별 교양·오락·문화생활비 지출전망 코로나 이전\n",
    "model2 = aov(value ~ 분류코드별 + variable, data=data2_b[data2_b$지수코드별 == '교양·오락·문화생활비 지출전망CSI', ])\n",
    "summary(model2)\n",
    "b=HSD.test(model2, '분류코드별', group=TRUE)\n",
    "b"
   ]
  },
  {
   "cell_type": "code",
   "execution_count": null,
   "metadata": {},
   "outputs": [],
   "source": [
    "#소득별 교육비 지출전망 코로나 이후\n",
    "model1 = aov(value ~ 분류코드별 + variable, data=data2_a[data2_a$지수코드별 == '교육비 지출전망CSI', ])\n",
    "summary(model1)\n",
    "a=HSD.test(model1, '분류코드별', group=TRUE)\n",
    "a"
   ]
  },
  {
   "cell_type": "code",
   "execution_count": null,
   "metadata": {},
   "outputs": [],
   "source": [
    "#소득별 교육비 지출전망 코로나 이전\n",
    "model2 = aov(value ~ 분류코드별 + variable, data=data2_b[data2_b$지수코드별 == '교육비 지출전망CSI', ])\n",
    "summary(model2)\n",
    "b=HSD.test(model2, '분류코드별', group=TRUE)\n",
    "b"
   ]
  },
  {
   "cell_type": "code",
   "execution_count": null,
   "metadata": {},
   "outputs": [],
   "source": [
    "#소득별 여행비 지출전망 코로나 이후\n",
    "model1 = aov(value ~ 분류코드별 + variable, data=data2_a[data2_a$지수코드별 == '여행비 지출전망CSI', ])\n",
    "summary(model1)\n",
    "a=HSD.test(model1, '분류코드별', group=TRUE)\n",
    "a"
   ]
  },
  {
   "cell_type": "code",
   "execution_count": null,
   "metadata": {},
   "outputs": [],
   "source": [
    "#소득별 여행비 지출전망 코로나 이전\n",
    "model2 = aov(value ~ 분류코드별 + variable, data=data2_b[data2_b$지수코드별 == '여행비 지출전망CSI', ])\n",
    "summary(model2)\n",
    "b=HSD.test(model2, '분류코드별', group=TRUE)\n",
    "b"
   ]
  },
  {
   "cell_type": "code",
   "execution_count": null,
   "metadata": {},
   "outputs": [],
   "source": [
    "#소득별 의류비 지출전망 코로나 이후\n",
    "model1 = aov(value ~ 분류코드별 + variable, data=data2_a[data2_a$지수코드별 == '의류비 지출전망CSI', ])\n",
    "summary(model1)\n",
    "a=HSD.test(model1, '분류코드별', group=TRUE)\n",
    "a"
   ]
  },
  {
   "cell_type": "code",
   "execution_count": null,
   "metadata": {},
   "outputs": [],
   "source": [
    "#소득별 의류비 지출전망 코로나 이전\n",
    "model2 = aov(value ~ 분류코드별 + variable, data=data2_b[data2_b$지수코드별 == '의류비 지출전망CSI', ])\n",
    "summary(model2)\n",
    "b=HSD.test(model2, '분류코드별', group=TRUE)\n",
    "b"
   ]
  },
  {
   "cell_type": "code",
   "execution_count": null,
   "metadata": {},
   "outputs": [],
   "source": [
    "#소득별 외식비 지출전망 코로나 이후\n",
    "model1 = aov(value ~ 분류코드별 + variable, data=data2_a[data2_a$지수코드별 == '외식비 지출전망CSI', ])\n",
    "summary(model1)\n",
    "a=HSD.test(model1, '분류코드별', group=TRUE)\n",
    "a"
   ]
  },
  {
   "cell_type": "code",
   "execution_count": null,
   "metadata": {},
   "outputs": [],
   "source": [
    "#소득별 외식비 지출전망 코로나 이전\n",
    "model2 = aov(value ~ 분류코드별 + variable, data=data2_b[data2_b$지수코드별 == '외식비 지출전망CSI', ])\n",
    "summary(model2)\n",
    "b=HSD.test(model2, '분류코드별', group=TRUE)\n",
    "b"
   ]
  }
 ],
 "metadata": {
  "kernelspec": {
   "display_name": "R",
   "language": "R",
   "name": "ir"
  },
  "language_info": {
   "codemirror_mode": "r",
   "file_extension": ".r",
   "mimetype": "text/x-r-source",
   "name": "R",
   "pygments_lexer": "r",
   "version": "3.6.1"
  }
 },
 "nbformat": 4,
 "nbformat_minor": 4
}
