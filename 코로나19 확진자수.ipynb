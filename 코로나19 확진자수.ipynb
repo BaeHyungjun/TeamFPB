{
 "cells": [
  {
   "cell_type": "code",
   "execution_count": 1,
   "metadata": {
    "ExecuteTime": {
     "end_time": "2020-11-09T13:01:34.155899Z",
     "start_time": "2020-11-09T13:01:31.757415Z"
    }
   },
   "outputs": [],
   "source": [
    "import requests\n",
    "from bs4 import BeautifulSoup\n",
    "from lxml import html\n",
    "from urllib.request import Request, urlopen\n",
    "from urllib.parse import urlencode, quote_plus, unquote\n",
    "\n",
    "import numpy as np\n",
    "import pandas as pd\n",
    "\n",
    "import matplotlib as mpl\n",
    "import matplotlib.pyplot as plt\n",
    "from matplotlib import font_manager, rc\n",
    "import seaborn as sns"
   ]
  },
  {
   "cell_type": "code",
   "execution_count": 2,
   "metadata": {
    "ExecuteTime": {
     "end_time": "2020-11-09T13:01:34.170887Z",
     "start_time": "2020-11-09T13:01:34.158893Z"
    }
   },
   "outputs": [],
   "source": [
    "# 플랏 스타일\n",
    "plt.style.use('fivethirtyeight')\n",
    "\n",
    "# - 표시 오류 해결\n",
    "mpl.rcParams['axes.unicode_minus'] = False\n",
    "\n",
    "# 한글폰트 굴림으로 설정\n",
    "font_location = 'C:/Windows/Fonts/gulim.ttc'\n",
    "font_name = font_manager.FontProperties(fname = font_location).get_name()\n",
    "rc('font', family=font_name)\n",
    "mpl.rcParams.update({'font.size': 15})"
   ]
  },
  {
   "cell_type": "markdown",
   "metadata": {},
   "source": [
    "# 보건복지부 코로나19 감염 현황"
   ]
  },
  {
   "cell_type": "code",
   "execution_count": 3,
   "metadata": {
    "ExecuteTime": {
     "end_time": "2020-11-09T13:01:34.277824Z",
     "start_time": "2020-11-09T13:01:34.174884Z"
    }
   },
   "outputs": [],
   "source": [
    "my_api_key = \"sZiMF2BEFca0NrdzttDLIMu0bsnvgk9QMBeIMLqbnkDplTsBA5Zc%2BCGZvJlEcFnPiLK%2Fvi3j%2FIKxXUQ7lbXwgQ%3D%3D\""
   ]
  },
  {
   "cell_type": "code",
   "execution_count": 4,
   "metadata": {
    "ExecuteTime": {
     "end_time": "2020-11-09T13:01:34.368045Z",
     "start_time": "2020-11-09T13:01:34.280828Z"
    }
   },
   "outputs": [],
   "source": [
    "def crowling_korea_covid_data_and_preprocessing(api_key):\n",
    "    '''\n",
    "    보건복지부 코로나19 감염 현황 https://www.data.go.kr/tcs/dss/selectApiDataDetailView.do?publicDataPk=15043376\n",
    "    데이터 크롤링 및 이상한 데이터 전처리\n",
    "    \n",
    "    api_key : url에서 신청했을 때 발급받는 service key\n",
    "    '''\n",
    "    \n",
    "    # url 및 parameter 설정\n",
    "    url = \"http://openapi.data.go.kr/openapi/service/rest/Covid19/getCovid19InfStateJson\"\n",
    "\n",
    "    service_key = unquote(api_key)\n",
    "\n",
    "    queryParams = \"?\" + urlencode(\n",
    "        {\n",
    "            quote_plus(\"serviceKey\") : service_key,\n",
    "            quote_plus(\"numOfRows\") : \"500\",\n",
    "            quote_plus(\"startCreateDt\") : \"20200101\",\n",
    "            quote_plus(\"endCreateDt\") : \"20201031\"\n",
    "        }\n",
    "    )\n",
    "\n",
    "    # 오픈api 페이지 크롤링\n",
    "    response = requests.get(url + queryParams).text.encode(\"utf-8\")\n",
    "    xmlobj = BeautifulSoup(response, \"lxml-xml\")\n",
    "    rows = xmlobj.findAll(\"item\")\n",
    "        \n",
    "    # 반복문을 돌면서 크롤링페이지의 데이터를 딕셔너리에 저장\n",
    "    rowdict = {'stateDt' : [],\n",
    "              'decideCnt' : []}\n",
    "\n",
    "    for element in rows:\n",
    "        row = element.find_all()\n",
    "\n",
    "        for ele in row:\n",
    "            if ele.name in ['stateDt', 'decideCnt']:\n",
    "                rowdict[ele.name].append(ele.text)\n",
    "                \n",
    "    # 데이터프레임화\n",
    "    rowdict_korean = dict((i, j) for i, j in zip(['기준일', '확진자수'], list(rowdict.values())))\n",
    "    df = pd.DataFrame(rowdict_korean)\n",
    "\n",
    "    df['기준일'] = pd.to_datetime(df['기준일'])\n",
    "    df['확진자수'] = pd.to_numeric(df['확진자수'])\n",
    "    df.sort_values(by='기준일', inplace=True, ascending=True)\n",
    "    df.reset_index(drop=True, inplace=True)\n",
    "\n",
    "    # 전처리\n",
    "    ## 같은 날짜로 데이터 여러개 있길래 삭제\n",
    "    delete_rownumber1 = []\n",
    "\n",
    "    for number in range(1, len(df['기준일'])):\n",
    "        yesterday_date = df['기준일'][number-1]\n",
    "        today_date = df['기준일'][number]\n",
    "\n",
    "        if today_date == yesterday_date:\n",
    "            delete_rownumber1.append(number)\n",
    "            \n",
    "    df = df.drop(delete_rownumber1)\n",
    "    df.reset_index(drop=True, inplace=True)\n",
    "    \n",
    "    ## 어제보다 오늘의 값이 \n",
    "    delete_rownumber2 = []\n",
    "\n",
    "    for number in range(1, len(df['확진자수'])):\n",
    "        yesterday_decide = df['확진자수'][number-1]\n",
    "        today_decide = df['확진자수'][number]\n",
    "\n",
    "        if today_decide < yesterday_decide:\n",
    "            delete_rownumber2.append(number)\n",
    "\n",
    "    df = df.drop(delete_rownumber2)\n",
    "    df.reset_index(drop=True, inplace=True)\n",
    "    \n",
    "    return df"
   ]
  },
  {
   "cell_type": "code",
   "execution_count": 5,
   "metadata": {
    "ExecuteTime": {
     "end_time": "2020-11-09T13:01:34.788786Z",
     "start_time": "2020-11-09T13:01:34.370042Z"
    }
   },
   "outputs": [],
   "source": [
    "cumulated_covid19_korea = crowling_korea_covid_data_and_preprocessing(my_api_key)"
   ]
  },
  {
   "cell_type": "code",
   "execution_count": 6,
   "metadata": {
    "ExecuteTime": {
     "end_time": "2020-11-09T13:01:34.818773Z",
     "start_time": "2020-11-09T13:01:34.791784Z"
    }
   },
   "outputs": [
    {
     "data": {
      "text/html": [
       "<div>\n",
       "<style scoped>\n",
       "    .dataframe tbody tr th:only-of-type {\n",
       "        vertical-align: middle;\n",
       "    }\n",
       "\n",
       "    .dataframe tbody tr th {\n",
       "        vertical-align: top;\n",
       "    }\n",
       "\n",
       "    .dataframe thead th {\n",
       "        text-align: right;\n",
       "    }\n",
       "</style>\n",
       "<table border=\"1\" class=\"dataframe\">\n",
       "  <thead>\n",
       "    <tr style=\"text-align: right;\">\n",
       "      <th></th>\n",
       "      <th>기준일</th>\n",
       "      <th>확진자수</th>\n",
       "    </tr>\n",
       "  </thead>\n",
       "  <tbody>\n",
       "    <tr>\n",
       "      <th>0</th>\n",
       "      <td>2020-01-01</td>\n",
       "      <td>0</td>\n",
       "    </tr>\n",
       "    <tr>\n",
       "      <th>1</th>\n",
       "      <td>2020-02-02</td>\n",
       "      <td>2</td>\n",
       "    </tr>\n",
       "    <tr>\n",
       "      <th>2</th>\n",
       "      <td>2020-02-03</td>\n",
       "      <td>15</td>\n",
       "    </tr>\n",
       "    <tr>\n",
       "      <th>3</th>\n",
       "      <td>2020-02-05</td>\n",
       "      <td>19</td>\n",
       "    </tr>\n",
       "    <tr>\n",
       "      <th>4</th>\n",
       "      <td>2020-02-06</td>\n",
       "      <td>23</td>\n",
       "    </tr>\n",
       "    <tr>\n",
       "      <th>...</th>\n",
       "      <td>...</td>\n",
       "      <td>...</td>\n",
       "    </tr>\n",
       "    <tr>\n",
       "      <th>263</th>\n",
       "      <td>2020-10-22</td>\n",
       "      <td>25543</td>\n",
       "    </tr>\n",
       "    <tr>\n",
       "      <th>264</th>\n",
       "      <td>2020-10-23</td>\n",
       "      <td>25698</td>\n",
       "    </tr>\n",
       "    <tr>\n",
       "      <th>265</th>\n",
       "      <td>2020-10-24</td>\n",
       "      <td>25775</td>\n",
       "    </tr>\n",
       "    <tr>\n",
       "      <th>266</th>\n",
       "      <td>2020-10-25</td>\n",
       "      <td>25836</td>\n",
       "    </tr>\n",
       "    <tr>\n",
       "      <th>267</th>\n",
       "      <td>2020-10-26</td>\n",
       "      <td>25955</td>\n",
       "    </tr>\n",
       "  </tbody>\n",
       "</table>\n",
       "<p>268 rows × 2 columns</p>\n",
       "</div>"
      ],
      "text/plain": [
       "           기준일   확진자수\n",
       "0   2020-01-01      0\n",
       "1   2020-02-02      2\n",
       "2   2020-02-03     15\n",
       "3   2020-02-05     19\n",
       "4   2020-02-06     23\n",
       "..         ...    ...\n",
       "263 2020-10-22  25543\n",
       "264 2020-10-23  25698\n",
       "265 2020-10-24  25775\n",
       "266 2020-10-25  25836\n",
       "267 2020-10-26  25955\n",
       "\n",
       "[268 rows x 2 columns]"
      ]
     },
     "execution_count": 6,
     "metadata": {},
     "output_type": "execute_result"
    }
   ],
   "source": [
    "cumulated_covid19_korea.head(-5)"
   ]
  },
  {
   "cell_type": "code",
   "execution_count": 7,
   "metadata": {
    "ExecuteTime": {
     "end_time": "2020-11-09T13:01:35.238856Z",
     "start_time": "2020-11-09T13:01:34.821765Z"
    }
   },
   "outputs": [
    {
     "data": {
      "image/png": "[encoded data removed]",
      "text/plain": [
       "<Figure size 864x432 with 1 Axes>"
      ]
     },
     "metadata": {},
     "output_type": "display_data"
    }
   ],
   "source": [
    "plt.figure(figsize=(12, 6))\n",
    "plt.plot(cumulated_covid19_korea['기준일'], cumulated_covid19_korea['확진자수'])\n",
    "plt.show()"
   ]
  },
  {
   "cell_type": "code",
   "execution_count": 8,
   "metadata": {
    "ExecuteTime": {
     "end_time": "2020-11-09T13:01:35.253846Z",
     "start_time": "2020-11-09T13:01:35.242855Z"
    }
   },
   "outputs": [],
   "source": [
    "# cumulated_covid19_korea.to_csv(\"covid19_korea.csv\")"
   ]
  },
  {
   "cell_type": "markdown",
   "metadata": {},
   "source": [
    "### 주차별 확진자 수 그래프"
   ]
  },
  {
   "cell_type": "code",
   "execution_count": 9,
   "metadata": {
    "ExecuteTime": {
     "end_time": "2020-11-09T13:01:35.345722Z",
     "start_time": "2020-11-09T13:01:35.259843Z"
    }
   },
   "outputs": [],
   "source": [
    "def weekly_covid19_plot(df):\n",
    "    '''cumulated_covid19_korea 받아서 주차별 확진자 수 그래프 출력'''\n",
    "    \n",
    "    df['일일확진자수'] = pd.to_numeric(df['확진자수'].diff())\n",
    "    resampled_df = df.resample('W', on='기준일').sum()\n",
    "    \n",
    "    week_index = ['week' + str(i) for i in range(1, 45)]\n",
    "    resampled_df.index = week_index\n",
    "    \n",
    "    color_palette = sns.color_palette(\"Reds_d\", resampled_df.shape[0])\n",
    "    color_rank = resampled_df['일일확진자수'].argsort().argsort()\n",
    "\n",
    "    plt.figure(figsize=(12, 6))\n",
    "    sns.barplot(resampled_df.index, resampled_df['일일확진자수'],\n",
    "                palette=np.array(color_palette[::-1])[color_rank])\n",
    "\n",
    "    plt.axvline(x=7.5, linewidth=2.5, color='r', label='포스트 코로나 시작')\n",
    "    plt.axvline(x=32.5, linewidth=2.5, color='b', label='2차 확산')\n",
    "    plt.legend(loc=1, fontsize=14)\n",
    "\n",
    "    plt.title('전국 주차별 확진자 수', fontsize=25)\n",
    "    plt.xticks(rotation=45, size=12.5, ha='right')\n",
    "    plt.ylabel('')\n",
    "\n",
    "    plt.show()"
   ]
  },
  {
   "cell_type": "code",
   "execution_count": 10,
   "metadata": {
    "ExecuteTime": {
     "end_time": "2020-11-09T13:01:36.384831Z",
     "start_time": "2020-11-09T13:01:35.347726Z"
    }
   },
   "outputs": [
    {
     "data": {
      "image/png": "[encoded data removed]",
      "text/plain": [
       "<Figure size 864x432 with 1 Axes>"
      ]
     },
     "metadata": {},
     "output_type": "display_data"
    }
   ],
   "source": [
    "weekly_covid19_plot(cumulated_covid19_korea)"
   ]
  },
  {
   "cell_type": "code",
   "execution_count": null,
   "metadata": {},
   "outputs": [],
   "source": []
  }
 ],
 "metadata": {
  "kernelspec": {
   "display_name": "Python 3",
   "language": "python",
   "name": "python3"
  },
  "language_info": {
   "codemirror_mode": {
    "name": "ipython",
    "version": 3
   },
   "file_extension": ".py",
   "mimetype": "text/x-python",
   "name": "python",
   "nbconvert_exporter": "python",
   "pygments_lexer": "ipython3",
   "version": "3.7.7"
  },
  "varInspector": {
   "cols": {
    "lenName": 16,
    "lenType": 16,
    "lenVar": 40
   },
   "kernels_config": {
    "python": {
     "delete_cmd_postfix": "",
     "delete_cmd_prefix": "del ",
     "library": "var_list.py",
     "varRefreshCmd": "print(var_dic_list())"
    },
    "r": {
     "delete_cmd_postfix": ") ",
     "delete_cmd_prefix": "rm(",
     "library": "var_list.r",
     "varRefreshCmd": "cat(var_dic_list()) "
    }
   },
   "types_to_exclude": [
    "module",
    "function",
    "builtin_function_or_method",
    "instance",
    "_Feature"
   ],
   "window_display": false
  }
 },
 "nbformat": 4,
 "nbformat_minor": 4
}
