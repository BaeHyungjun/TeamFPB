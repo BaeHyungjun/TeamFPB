{
 "cells": [
  {
   "cell_type": "code",
   "execution_count": 4,
   "metadata": {},
   "outputs": [],
   "source": [
    "%matplotlib inline\n",
    "import pandas as pd\n",
    "\n",
    "from datetime import datetime\n",
    "from math import *\n",
    "import numpy as np\n",
    "import sys\n",
    "import numpy as np\n",
    "import warnings\n",
    "\n",
    "import matplotlib.pyplot as plt\n",
    "warnings.filterwarnings('ignore')\n",
    "from matplotlib import font_manager, rc\n",
    "font_location = 'C:/Windows/Fonts/gulim.ttc'\n",
    "font_name = font_manager.FontProperties(fname = font_location).get_name()\n",
    "rc('font', family=font_name)\n",
    "\n",
    "\n",
    "import dtw\n",
    "\n",
    "import operator"
   ]
  },
  {
   "cell_type": "code",
   "execution_count": 13,
   "metadata": {
    "scrolled": true
   },
   "outputs": [],
   "source": [
    "card = pd.read_csv('card_20200717.csv')\n",
    "covid=pd.read_csv('Time.csv')"
   ]
  },
  {
   "cell_type": "code",
   "execution_count": 14,
   "metadata": {},
   "outputs": [],
   "source": [
    "card.columns = ['날짜', '행정동 코드', '행정동', '업종 코드', '업종', '판매건수', '판매금액']\n",
    "card['날짜'] = card['날짜'].astype('str').apply(lambda x: x[:4]+'-'+x[4:6]+'-'+x[6:])\n",
    "card['날짜']=pd.to_datetime(card['날짜'], format=\"%Y-%m-%d\")\n",
    "card['행정동 코드'] = card['행정동 코드'].astype('str').apply(lambda x: x[:-2]).astype('int')\n",
    "card['업종 코드'] = card['업종 코드'].astype(str)\n",
    "card['업종 중분류'] = card['업종 코드'].str.slice(start=0, stop=2)\n",
    "\n",
    "\n",
    "covid.columns = ['날짜', '시간대', '검사', '음성', '누적확진', '격리해제','사망']\n",
    "covid['날짜']=pd.to_datetime(covid['날짜'], format=\"%Y-%m-%d\")\n",
    "covid['실확진자']=covid['누적확진'].diff().apply(pd.to_numeric)"
   ]
  },
  {
   "cell_type": "markdown",
   "metadata": {},
   "source": [
    "mask1 = (card['날짜'] >= '2020-01-20')\n",
    "mask3= (covid['날짜'] <= '2020-06-14')"
   ]
  },
  {
   "cell_type": "markdown",
   "metadata": {},
   "source": [
    "card=card.loc[mask1]\n",
    "covid=covid.loc[mask3]"
   ]
  },
  {
   "cell_type": "code",
   "execution_count": 15,
   "metadata": {},
   "outputs": [],
   "source": [
    "date = list(card['날짜'].unique())\n",
    "category = list(card['업종'].unique())\n",
    "item = [date, category]\n",
    "\n",
    "from itertools import product\n",
    "card_temp = pd.DataFrame(product(*item), columns= ['날짜','업종'])\n",
    "\n",
    "card = pd.merge(card,card_temp,on=['날짜','업종'], how='right')\n",
    "card = card.fillna(0)\n",
    "card = card.groupby(['날짜','업종']).mean().reset_index() # 날짜별로 업종이 가나다 순서대로 정렬되는 효과"
   ]
  },
  {
   "cell_type": "code",
   "execution_count": 16,
   "metadata": {},
   "outputs": [],
   "source": [
    "card_compare = card.copy()\n",
    "import datetime as dt\n",
    "\n",
    "card['주'] = card['날짜'].dt.week #주 변수 추가\n",
    "card = card.groupby(['업종','주']).mean().reset_index()\n",
    "card['판매건수'].fillna(0)\n",
    "card['판매금액'].fillna(0)"
   ]
  },
  {
   "cell_type": "code",
   "execution_count": 17,
   "metadata": {},
   "outputs": [
    {
     "data": {
      "text/html": [
       "<div>\n",
       "<style scoped>\n",
       "    .dataframe tbody tr th:only-of-type {\n",
       "        vertical-align: middle;\n",
       "    }\n",
       "\n",
       "    .dataframe tbody tr th {\n",
       "        vertical-align: top;\n",
       "    }\n",
       "\n",
       "    .dataframe thead th {\n",
       "        text-align: right;\n",
       "    }\n",
       "</style>\n",
       "<table border=\"1\" class=\"dataframe\">\n",
       "  <thead>\n",
       "    <tr style=\"text-align: right;\">\n",
       "      <th></th>\n",
       "      <th>날짜</th>\n",
       "      <th>업종</th>\n",
       "      <th>행정동 코드</th>\n",
       "      <th>판매건수</th>\n",
       "      <th>판매금액</th>\n",
       "      <th>주</th>\n",
       "      <th>월</th>\n",
       "    </tr>\n",
       "  </thead>\n",
       "  <tbody>\n",
       "    <tr>\n",
       "      <th>0</th>\n",
       "      <td>2020-01-04</td>\n",
       "      <td>1급 호텔</td>\n",
       "      <td>1.114055e+07</td>\n",
       "      <td>38.000000</td>\n",
       "      <td>6.941145e+06</td>\n",
       "      <td>1</td>\n",
       "      <td>1</td>\n",
       "    </tr>\n",
       "    <tr>\n",
       "      <th>1</th>\n",
       "      <td>2020-01-04</td>\n",
       "      <td>2급 호텔</td>\n",
       "      <td>0.000000e+00</td>\n",
       "      <td>0.000000</td>\n",
       "      <td>0.000000e+00</td>\n",
       "      <td>1</td>\n",
       "      <td>1</td>\n",
       "    </tr>\n",
       "    <tr>\n",
       "      <th>2</th>\n",
       "      <td>2020-01-04</td>\n",
       "      <td>CATV</td>\n",
       "      <td>0.000000e+00</td>\n",
       "      <td>0.000000</td>\n",
       "      <td>0.000000e+00</td>\n",
       "      <td>1</td>\n",
       "      <td>1</td>\n",
       "    </tr>\n",
       "    <tr>\n",
       "      <th>3</th>\n",
       "      <td>2020-01-04</td>\n",
       "      <td>CATV홈쇼핑</td>\n",
       "      <td>1.154568e+07</td>\n",
       "      <td>2384.500000</td>\n",
       "      <td>2.736035e+08</td>\n",
       "      <td>1</td>\n",
       "      <td>1</td>\n",
       "    </tr>\n",
       "    <tr>\n",
       "      <th>4</th>\n",
       "      <td>2020-01-04</td>\n",
       "      <td>L P G</td>\n",
       "      <td>0.000000e+00</td>\n",
       "      <td>0.000000</td>\n",
       "      <td>0.000000e+00</td>\n",
       "      <td>1</td>\n",
       "      <td>1</td>\n",
       "    </tr>\n",
       "    <tr>\n",
       "      <th>...</th>\n",
       "      <td>...</td>\n",
       "      <td>...</td>\n",
       "      <td>...</td>\n",
       "      <td>...</td>\n",
       "      <td>...</td>\n",
       "      <td>...</td>\n",
       "      <td>...</td>\n",
       "    </tr>\n",
       "    <tr>\n",
       "      <th>40295</th>\n",
       "      <td>2020-06-14</td>\n",
       "      <td>화   랑</td>\n",
       "      <td>1.132301e+07</td>\n",
       "      <td>5.080000</td>\n",
       "      <td>3.173280e+05</td>\n",
       "      <td>24</td>\n",
       "      <td>6</td>\n",
       "    </tr>\n",
       "    <tr>\n",
       "      <th>40296</th>\n",
       "      <td>2020-06-14</td>\n",
       "      <td>화   원</td>\n",
       "      <td>1.144383e+07</td>\n",
       "      <td>9.407514</td>\n",
       "      <td>3.033937e+05</td>\n",
       "      <td>24</td>\n",
       "      <td>6</td>\n",
       "    </tr>\n",
       "    <tr>\n",
       "      <th>40297</th>\n",
       "      <td>2020-06-14</td>\n",
       "      <td>화 장 품</td>\n",
       "      <td>1.143711e+07</td>\n",
       "      <td>34.792916</td>\n",
       "      <td>1.602415e+06</td>\n",
       "      <td>24</td>\n",
       "      <td>6</td>\n",
       "    </tr>\n",
       "    <tr>\n",
       "      <th>40298</th>\n",
       "      <td>2020-06-14</td>\n",
       "      <td>화물 운송</td>\n",
       "      <td>1.141588e+07</td>\n",
       "      <td>71.948454</td>\n",
       "      <td>7.139541e+05</td>\n",
       "      <td>24</td>\n",
       "      <td>6</td>\n",
       "    </tr>\n",
       "    <tr>\n",
       "      <th>40299</th>\n",
       "      <td>2020-06-14</td>\n",
       "      <td>화방표구점</td>\n",
       "      <td>1.143429e+07</td>\n",
       "      <td>11.684211</td>\n",
       "      <td>5.035988e+05</td>\n",
       "      <td>24</td>\n",
       "      <td>6</td>\n",
       "    </tr>\n",
       "  </tbody>\n",
       "</table>\n",
       "<p>40300 rows × 7 columns</p>\n",
       "</div>"
      ],
      "text/plain": [
       "              날짜       업종        행정동 코드         판매건수          판매금액   주  월\n",
       "0     2020-01-04    1급 호텔  1.114055e+07    38.000000  6.941145e+06   1  1\n",
       "1     2020-01-04    2급 호텔  0.000000e+00     0.000000  0.000000e+00   1  1\n",
       "2     2020-01-04     CATV  0.000000e+00     0.000000  0.000000e+00   1  1\n",
       "3     2020-01-04  CATV홈쇼핑  1.154568e+07  2384.500000  2.736035e+08   1  1\n",
       "4     2020-01-04    L P G  0.000000e+00     0.000000  0.000000e+00   1  1\n",
       "...          ...      ...           ...          ...           ...  .. ..\n",
       "40295 2020-06-14    화   랑  1.132301e+07     5.080000  3.173280e+05  24  6\n",
       "40296 2020-06-14    화   원  1.144383e+07     9.407514  3.033937e+05  24  6\n",
       "40297 2020-06-14    화 장 품  1.143711e+07    34.792916  1.602415e+06  24  6\n",
       "40298 2020-06-14    화물 운송  1.141588e+07    71.948454  7.139541e+05  24  6\n",
       "40299 2020-06-14    화방표구점  1.143429e+07    11.684211  5.035988e+05  24  6\n",
       "\n",
       "[40300 rows x 7 columns]"
      ]
     },
     "execution_count": 17,
     "metadata": {},
     "output_type": "execute_result"
    }
   ],
   "source": [
    "card"
   ]
  },
  {
   "cell_type": "code",
   "execution_count": 9,
   "metadata": {},
   "outputs": [
    {
     "data": {
      "text/html": [
       "<div>\n",
       "<style scoped>\n",
       "    .dataframe tbody tr th:only-of-type {\n",
       "        vertical-align: middle;\n",
       "    }\n",
       "\n",
       "    .dataframe tbody tr th {\n",
       "        vertical-align: top;\n",
       "    }\n",
       "\n",
       "    .dataframe thead th {\n",
       "        text-align: right;\n",
       "    }\n",
       "</style>\n",
       "<table border=\"1\" class=\"dataframe\">\n",
       "  <thead>\n",
       "    <tr style=\"text-align: right;\">\n",
       "      <th></th>\n",
       "      <th>업종</th>\n",
       "      <th>주</th>\n",
       "      <th>행정동 코드</th>\n",
       "      <th>판매건수</th>\n",
       "      <th>판매금액</th>\n",
       "      <th>월</th>\n",
       "    </tr>\n",
       "  </thead>\n",
       "  <tbody>\n",
       "    <tr>\n",
       "      <th>0</th>\n",
       "      <td>1급 호텔</td>\n",
       "      <td>1</td>\n",
       "      <td>5.570275e+06</td>\n",
       "      <td>19.000000</td>\n",
       "      <td>3.470572e+06</td>\n",
       "      <td>1.000000</td>\n",
       "    </tr>\n",
       "    <tr>\n",
       "      <th>1</th>\n",
       "      <td>1급 호텔</td>\n",
       "      <td>2</td>\n",
       "      <td>6.366029e+06</td>\n",
       "      <td>23.000000</td>\n",
       "      <td>3.767738e+06</td>\n",
       "      <td>1.000000</td>\n",
       "    </tr>\n",
       "    <tr>\n",
       "      <th>2</th>\n",
       "      <td>1급 호텔</td>\n",
       "      <td>3</td>\n",
       "      <td>9.549043e+06</td>\n",
       "      <td>28.000000</td>\n",
       "      <td>3.316541e+06</td>\n",
       "      <td>1.000000</td>\n",
       "    </tr>\n",
       "    <tr>\n",
       "      <th>3</th>\n",
       "      <td>1급 호텔</td>\n",
       "      <td>4</td>\n",
       "      <td>8.148415e+06</td>\n",
       "      <td>17.711262</td>\n",
       "      <td>3.480931e+06</td>\n",
       "      <td>1.000000</td>\n",
       "    </tr>\n",
       "    <tr>\n",
       "      <th>4</th>\n",
       "      <td>1급 호텔</td>\n",
       "      <td>5</td>\n",
       "      <td>1.139836e+07</td>\n",
       "      <td>27.726274</td>\n",
       "      <td>4.324041e+06</td>\n",
       "      <td>1.285714</td>\n",
       "    </tr>\n",
       "    <tr>\n",
       "      <th>...</th>\n",
       "      <td>...</td>\n",
       "      <td>...</td>\n",
       "      <td>...</td>\n",
       "      <td>...</td>\n",
       "      <td>...</td>\n",
       "      <td>...</td>\n",
       "    </tr>\n",
       "    <tr>\n",
       "      <th>6235</th>\n",
       "      <td>화방표구점</td>\n",
       "      <td>20</td>\n",
       "      <td>1.140869e+07</td>\n",
       "      <td>11.921409</td>\n",
       "      <td>7.188958e+05</td>\n",
       "      <td>5.000000</td>\n",
       "    </tr>\n",
       "    <tr>\n",
       "      <th>6236</th>\n",
       "      <td>화방표구점</td>\n",
       "      <td>21</td>\n",
       "      <td>1.139273e+07</td>\n",
       "      <td>13.174195</td>\n",
       "      <td>7.079540e+05</td>\n",
       "      <td>5.000000</td>\n",
       "    </tr>\n",
       "    <tr>\n",
       "      <th>6237</th>\n",
       "      <td>화방표구점</td>\n",
       "      <td>22</td>\n",
       "      <td>1.140849e+07</td>\n",
       "      <td>12.824208</td>\n",
       "      <td>7.980002e+05</td>\n",
       "      <td>5.000000</td>\n",
       "    </tr>\n",
       "    <tr>\n",
       "      <th>6238</th>\n",
       "      <td>화방표구점</td>\n",
       "      <td>23</td>\n",
       "      <td>1.138337e+07</td>\n",
       "      <td>10.998074</td>\n",
       "      <td>7.476036e+05</td>\n",
       "      <td>6.000000</td>\n",
       "    </tr>\n",
       "    <tr>\n",
       "      <th>6239</th>\n",
       "      <td>화방표구점</td>\n",
       "      <td>24</td>\n",
       "      <td>1.142622e+07</td>\n",
       "      <td>11.896155</td>\n",
       "      <td>6.301978e+05</td>\n",
       "      <td>6.000000</td>\n",
       "    </tr>\n",
       "  </tbody>\n",
       "</table>\n",
       "<p>6240 rows × 6 columns</p>\n",
       "</div>"
      ],
      "text/plain": [
       "         업종   주        행정동 코드       판매건수          판매금액         월\n",
       "0     1급 호텔   1  5.570275e+06  19.000000  3.470572e+06  1.000000\n",
       "1     1급 호텔   2  6.366029e+06  23.000000  3.767738e+06  1.000000\n",
       "2     1급 호텔   3  9.549043e+06  28.000000  3.316541e+06  1.000000\n",
       "3     1급 호텔   4  8.148415e+06  17.711262  3.480931e+06  1.000000\n",
       "4     1급 호텔   5  1.139836e+07  27.726274  4.324041e+06  1.285714\n",
       "...     ...  ..           ...        ...           ...       ...\n",
       "6235  화방표구점  20  1.140869e+07  11.921409  7.188958e+05  5.000000\n",
       "6236  화방표구점  21  1.139273e+07  13.174195  7.079540e+05  5.000000\n",
       "6237  화방표구점  22  1.140849e+07  12.824208  7.980002e+05  5.000000\n",
       "6238  화방표구점  23  1.138337e+07  10.998074  7.476036e+05  6.000000\n",
       "6239  화방표구점  24  1.142622e+07  11.896155  6.301978e+05  6.000000\n",
       "\n",
       "[6240 rows x 6 columns]"
      ]
     },
     "execution_count": 9,
     "metadata": {},
     "output_type": "execute_result"
    }
   ],
   "source": [
    "card"
   ]
  },
  {
   "cell_type": "code",
   "execution_count": null,
   "metadata": {},
   "outputs": [],
   "source": [
    "fpopl_compare=fpopl.copy()\n",
    "\n",
    "fpopl['주']=fpopl['날짜'].dt.week #주 변수 추가\n",
    "fpopl = fpopl.groupby(['주']).mean().reset_index()"
   ]
  },
  {
   "cell_type": "code",
   "execution_count": null,
   "metadata": {},
   "outputs": [],
   "source": [
    "covid_compare=covid.copy()\n",
    "\n",
    "covid['주']=covid['날짜'].dt.week #주 변수 추가\n",
    "covid = covid.groupby(['주']).sum().reset_index()"
   ]
  },
  {
   "cell_type": "code",
   "execution_count": null,
   "metadata": {},
   "outputs": [],
   "source": [
    "card['판매건수변환'] = card.groupby('업종')['판매건수'].transform(lambda x: (x-x.min())/(x.max() - x.min()))\n",
    "card['판매건수변환2'] = card.groupby('업종')['판매건수'].transform(lambda x: 1-((x-x.min())/(x.max() - x.min())))"
   ]
  },
  {
   "cell_type": "code",
   "execution_count": null,
   "metadata": {},
   "outputs": [],
   "source": [
    "covid['확진자수변환']= covid['실확진자'].transform(lambda x: (x-x.min())/(x.max() - x.min()))"
   ]
  },
  {
   "cell_type": "code",
   "execution_count": null,
   "metadata": {},
   "outputs": [],
   "source": [
    "kind = list(card['업종'].unique())"
   ]
  },
  {
   "cell_type": "code",
   "execution_count": null,
   "metadata": {},
   "outputs": [],
   "source": [
    "distance={}\n",
    "for i in kind:\n",
    "    try:         \n",
    "        a=dtw.dtw(covid['확진자수변환'],card.loc[(card['업종']==i)]['판매건수변환']).distance\n",
    "        distance[i]=a\n",
    "        print(i,a)\n",
    "    except:\n",
    "        print('++++++++++++++\\n',i,'error\\n','+++++++++++++++++++++')"
   ]
  },
  {
   "cell_type": "code",
   "execution_count": null,
   "metadata": {},
   "outputs": [],
   "source": [
    "distance"
   ]
  },
  {
   "cell_type": "code",
   "execution_count": null,
   "metadata": {},
   "outputs": [],
   "source": [
    "max(distance.items(), key=operator.itemgetter(1))"
   ]
  },
  {
   "cell_type": "code",
   "execution_count": null,
   "metadata": {},
   "outputs": [],
   "source": [
    "min(distance.items(), key=operator.itemgetter(1))"
   ]
  },
  {
   "cell_type": "code",
   "execution_count": null,
   "metadata": {},
   "outputs": [],
   "source": [
    "distance2={}\n",
    "for i in kind:\n",
    "    try:         \n",
    "        a=dtw.dtw(covid['확진자수변환'],card.loc[(card['업종']==i)]['판매건수변환2']).distance\n",
    "\n",
    "        distance2[i]=a\n",
    "        print(i,a)\n",
    "    except:\n",
    "        print('++++++++++++++\\n',i,'error\\n','+++++++++++++++++++++')"
   ]
  },
  {
   "cell_type": "code",
   "execution_count": null,
   "metadata": {},
   "outputs": [],
   "source": [
    "max(distance2.items(), key=operator.itemgetter(1))"
   ]
  },
  {
   "cell_type": "code",
   "execution_count": null,
   "metadata": {},
   "outputs": [],
   "source": [
    "min(distance2.items(), key=operator.itemgetter(1))"
   ]
  },
  {
   "cell_type": "code",
   "execution_count": null,
   "metadata": {},
   "outputs": [],
   "source": [
    "card_temp = card.copy()\n",
    "fig, ax = plt.subplots(1,1,figsize=(14,5))\n",
    "for i in range(0, len(set(card_temp['업종']))):\n",
    "    if i//10 == 0:\n",
    "        ax.plot(np.array(card_temp[card_temp['업종'] == kind[i]]['판매건수변환']),marker='o', linewidth=2,label=kind[i])\n",
    "ax.legend()\n",
    "ax.set_title('산업추이')"
   ]
  },
  {
   "cell_type": "code",
   "execution_count": null,
   "metadata": {},
   "outputs": [],
   "source": [
    "plt.plot(covid['확진자수변환'],marker='o', linewidth=2)\n",
    "plt.title('확진자수변환')"
   ]
  },
  {
   "cell_type": "code",
   "execution_count": null,
   "metadata": {},
   "outputs": [],
   "source": [
    "fig, ax = plt.subplots(1,1,figsize=(14,5))\n",
    "ax.plot(np.array(covid['확진자수변환']),marker='o', linewidth=2,label='확진자')\n",
    "ax.plot(np.array(card_temp[card_temp['업종'] == '화   원']['판매건수변환']),marker='o', linewidth=2,label='화원')\n",
    "ax.plot(np.array(card_temp[card_temp['업종'] == '연 쇄 점']['판매건수변환']),marker='o', linewidth=2,label='연 쇄 점')\n",
    "\n",
    "ax.legend()"
   ]
  },
  {
   "cell_type": "code",
   "execution_count": null,
   "metadata": {},
   "outputs": [],
   "source": [
    "from scipy.spatial.distance import euclidean "
   ]
  },
  {
   "cell_type": "code",
   "execution_count": null,
   "metadata": {},
   "outputs": [],
   "source": [
    "euclidean_dis={}\n",
    "for i in kind: \n",
    "    try:\n",
    "        a=euclidean(covid['확진자수변환'],card.loc[(card['업종']==i)]['판매건수변환'])\n",
    "\n",
    "        euclidean_dis[i]=a\n",
    "        print(i,a)\n",
    "    except:\n",
    "        print('error\\n',i,'error\\n')"
   ]
  },
  {
   "cell_type": "code",
   "execution_count": null,
   "metadata": {},
   "outputs": [],
   "source": [
    "max(euclidean_dis.items(), key=operator.itemgetter(1))"
   ]
  },
  {
   "cell_type": "code",
   "execution_count": null,
   "metadata": {},
   "outputs": [],
   "source": [
    "min(euclidean_dis.items(), key=operator.itemgetter(1))"
   ]
  },
  {
   "cell_type": "code",
   "execution_count": null,
   "metadata": {
    "scrolled": true
   },
   "outputs": [],
   "source": [
    "fig, ax = plt.subplots(1,1,figsize=(14,5))\n",
    "ax.plot(np.array(covid['확진자수변환']),marker='o', linewidth=2,label='확진자')\n",
    "ax.plot(np.array(card_temp[card_temp['업종'] == '고속 버스']['판매건수변환']),marker='o', linewidth=2,label='고속 버스')\n",
    "ax.plot(np.array(card_temp[card_temp['업종'] == '대학등록금']['판매건수변환']),marker='o', linewidth=2,label='대학등록금')\n",
    "\n",
    "ax.legend()"
   ]
  },
  {
   "cell_type": "code",
   "execution_count": null,
   "metadata": {},
   "outputs": [],
   "source": [
    "euclidean_dis2={}\n",
    "for i in kind: \n",
    "    try:\n",
    "        a=euclidean(covid['확진자수변환'],card.loc[(card['업종']==i)]['판매건수변환2'])\n",
    "\n",
    "        euclidean_dis2[i]=a\n",
    "        print(i,a)\n",
    "    except:\n",
    "        print('error\\n',i,'error\\n')"
   ]
  },
  {
   "cell_type": "code",
   "execution_count": null,
   "metadata": {},
   "outputs": [],
   "source": [
    "max(euclidean_dis2.items(), key=operator.itemgetter(1))"
   ]
  },
  {
   "cell_type": "code",
   "execution_count": null,
   "metadata": {},
   "outputs": [],
   "source": [
    "min(euclidean_dis2.items(), key=operator.itemgetter(1))"
   ]
  },
  {
   "cell_type": "code",
   "execution_count": null,
   "metadata": {
    "scrolled": true
   },
   "outputs": [],
   "source": [
    "fig, ax = plt.subplots(1,1,figsize=(14,5))\n",
    "ax.plot(np.array(covid['확진자수변환']),marker='o', linewidth=2,label='확진자')\n",
    "ax.plot(np.array(card_temp[card_temp['업종'] == '택시회사']['판매건수변환2']),marker='o', linewidth=2,label='택시회사')\n",
    "ax.plot(np.array(card_temp[card_temp['업종'] == '이 용 원']['판매건수변환2']),marker='o', linewidth=2,label='이 용 원')\n",
    "\n",
    "ax.legend()"
   ]
  },
  {
   "cell_type": "code",
   "execution_count": null,
   "metadata": {},
   "outputs": [],
   "source": []
  }
 ],
 "metadata": {
  "kernelspec": {
   "display_name": "Python 3",
   "language": "python",
   "name": "python3"
  },
  "language_info": {
   "codemirror_mode": {
    "name": "ipython",
    "version": 3
   },
   "file_extension": ".py",
   "mimetype": "text/x-python",
   "name": "python",
   "nbconvert_exporter": "python",
   "pygments_lexer": "ipython3",
   "version": "3.8.3"
  },
  "toc": {
   "base_numbering": 1,
   "nav_menu": {},
   "number_sections": true,
   "sideBar": true,
   "skip_h1_title": false,
   "title_cell": "Table of Contents",
   "title_sidebar": "Contents",
   "toc_cell": false,
   "toc_position": {},
   "toc_section_display": true,
   "toc_window_display": false
  },
  "varInspector": {
   "cols": {
    "lenName": 16,
    "lenType": 16,
    "lenVar": 40
   },
   "kernels_config": {
    "python": {
     "delete_cmd_postfix": "",
     "delete_cmd_prefix": "del ",
     "library": "var_list.py",
     "varRefreshCmd": "print(var_dic_list())"
    },
    "r": {
     "delete_cmd_postfix": ") ",
     "delete_cmd_prefix": "rm(",
     "library": "var_list.r",
     "varRefreshCmd": "cat(var_dic_list()) "
    }
   },
   "types_to_exclude": [
    "module",
    "function",
    "builtin_function_or_method",
    "instance",
    "_Feature"
   ],
   "window_display": false
  }
 },
 "nbformat": 4,
 "nbformat_minor": 4
}
